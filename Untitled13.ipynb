{
  "nbformat": 4,
  "nbformat_minor": 0,
  "metadata": {
    "colab": {
      "provenance": [],
      "authorship_tag": "ABX9TyMn5rRaMVTn9l9MyYJiDW7y",
      "include_colab_link": true
    },
    "kernelspec": {
      "name": "python3",
      "display_name": "Python 3"
    },
    "language_info": {
      "name": "python"
    }
  },
  "cells": [
    {
      "cell_type": "markdown",
      "metadata": {
        "id": "view-in-github",
        "colab_type": "text"
      },
      "source": [
        "<a href=\"https://colab.research.google.com/github/pedroyepiz/archivos/blob/main/Untitled13.ipynb\" target=\"_parent\"><img src=\"https://colab.research.google.com/assets/colab-badge.svg\" alt=\"Open In Colab\"/></a>"
      ]
    },
    {
      "cell_type": "markdown",
      "source": [],
      "metadata": {
        "id": "viArT1QNJVKD"
      }
    },
    {
      "cell_type": "code",
      "source": [
        "n1 = 10\n",
        "n2 = 5\n",
        "n3 = 8\n",
        "N = 20"
      ],
      "metadata": {
        "id": "JTOxR4G3E1HE"
      },
      "execution_count": null,
      "outputs": []
    },
    {
      "cell_type": "code",
      "execution_count": null,
      "metadata": {
        "colab": {
          "base_uri": "https://localhost:8080/"
        },
        "id": "LVkwnwJ2Eth8",
        "outputId": "b4cd755a-8305-46f2-9c0c-943c6a72ee70"
      },
      "outputs": [
        {
          "output_type": "stream",
          "name": "stdout",
          "text": [
            "N1 ES MAYOR\n"
          ]
        }
      ],
      "source": [
        "if n1 > n2:\n",
        "    print (\"N1 ES MAYOR\")"
      ]
    },
    {
      "cell_type": "code",
      "source": [
        "if n2 > n3:\n",
        "    print (\"EL MAYOR ES N2\")"
      ],
      "metadata": {
        "id": "IKOA7IgsFwgP"
      },
      "execution_count": null,
      "outputs": []
    },
    {
      "cell_type": "code",
      "source": [
        "if n1 > N:\n",
        "    print (\"MAYOR N1\")\n",
        "else:\n",
        "    print (\"MAYOR N\")\n"
      ],
      "metadata": {
        "colab": {
          "base_uri": "https://localhost:8080/"
        },
        "id": "0rQ12m3dHEPs",
        "outputId": "842786b9-0e44-42da-e010-478aea8a75c2"
      },
      "execution_count": null,
      "outputs": [
        {
          "output_type": "stream",
          "name": "stdout",
          "text": [
            "MAYOR N\n"
          ]
        }
      ]
    },
    {
      "cell_type": "code",
      "source": [
        "n1 = int(input(\"DAME EL PRIMER NUMERO: \"))\n",
        "n2 = int(input(\"DAME EL SEGUNDO NUMERO: \"))\n",
        "n3 = int(input(\"DAME EL TERCER NUMERO: \"))"
      ],
      "metadata": {
        "colab": {
          "base_uri": "https://localhost:8080/"
        },
        "id": "oBHVfY6TIIJA",
        "outputId": "ccef2fbd-dd03-413f-d376-edc04da1ad2f"
      },
      "execution_count": null,
      "outputs": [
        {
          "name": "stdout",
          "output_type": "stream",
          "text": [
            "DAME EL PRIMER NUMERO: 20\n",
            "DAME EL SEGUNDO NUMERO: 10\n",
            "DAME EL TERCER NUMERO: 30\n"
          ]
        }
      ]
    },
    {
      "cell_type": "code",
      "source": [
        "if n1 > n2:\n",
        "    if n1 > n3:\n",
        "        print (f\"EL MAYOR DE LOS 3 NUMEROS ES N1 {n1}\")\n",
        "    else:\n",
        "        print (f\"EL MAYOR DE LOS 3 NUMEROS ES EL N3 {n3}\")\n",
        "else:\n",
        "    if n2 > n3:\n",
        "        print (\"EL MAYOR DE LOS 3 NUMEROS ES EL N2\")\n",
        "    else:\n",
        "        print(\"EL MAYOR DE LOS 3 NUMEROS ES EL N3\")"
      ],
      "metadata": {
        "colab": {
          "base_uri": "https://localhost:8080/"
        },
        "id": "iA1TfcOvHeEB",
        "outputId": "70657ce0-3324-40d2-e304-3cc2dfe20f12"
      },
      "execution_count": null,
      "outputs": [
        {
          "output_type": "stream",
          "name": "stdout",
          "text": [
            "EL MAYOR DE LOS 3 NUMEROS ES EL N3 30\n"
          ]
        }
      ]
    }
  ]
}