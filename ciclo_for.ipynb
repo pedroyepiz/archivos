{
  "nbformat": 4,
  "nbformat_minor": 0,
  "metadata": {
    "colab": {
      "provenance": [],
      "authorship_tag": "ABX9TyObpXHw+H36mKZMD+JIprvL",
      "include_colab_link": true
    },
    "kernelspec": {
      "name": "python3",
      "display_name": "Python 3"
    },
    "language_info": {
      "name": "python"
    }
  },
  "cells": [
    {
      "cell_type": "markdown",
      "metadata": {
        "id": "view-in-github",
        "colab_type": "text"
      },
      "source": [
        "<a href=\"https://colab.research.google.com/github/pedroyepiz/archivos/blob/main/ciclo_for.ipynb\" target=\"_parent\"><img src=\"https://colab.research.google.com/assets/colab-badge.svg\" alt=\"Open In Colab\"/></a>"
      ]
    },
    {
      "cell_type": "markdown",
      "source": [
        "**EL CICLO for**\n",
        "\n",
        "En general, un bucle es una estructura de control que repite un bloque de instrucciones. Un bucle for es un bucle que repite el bloque de instrucciones un número prederminado de veces. El bloque de instrucciones que se repite se suele llamar cuerpo del bucle y cada repetición se suele llamar iteración.\n",
        "\n",
        "La sintaxis de un bucle for es la siguiente:"
      ],
      "metadata": {
        "id": "NQd2XQbGQxNe"
      }
    },
    {
      "cell_type": "code",
      "execution_count": null,
      "metadata": {
        "id": "i3WpZDf-QsUH"
      },
      "outputs": [],
      "source": [
        "for variable in elemento iterable (lista, cadena, range, etc.):\n",
        "    cuerpo del bucle"
      ]
    },
    {
      "cell_type": "markdown",
      "source": [
        "No es necesario definir la variable de control antes del ciclo, aunque se puede utilizar como variable de control una variable ya definida en el programa.\n",
        "\n",
        "El cuerpo del ciclo se ejecuta tantas veces como elementos tenga el elemento recorrible (elementos de una lista o de un range(), caracteres de una cadena, etc.). Por ejemplo:"
      ],
      "metadata": {
        "id": "2Z1ZelGPRJ_u"
      }
    },
    {
      "cell_type": "code",
      "source": [
        "print(\"Comienzo\")\n",
        "for i in [0, 1, 2]:\n",
        "    print(\"Hola \", end=\"\")\n",
        "print()\n",
        "print(\"Final\")"
      ],
      "metadata": {
        "colab": {
          "base_uri": "https://localhost:8080/"
        },
        "id": "D_8EXqXTRKL-",
        "outputId": "041665e3-83a7-4710-c7a8-92bc3a497b16"
      },
      "execution_count": null,
      "outputs": [
        {
          "output_type": "stream",
          "name": "stdout",
          "text": [
            "Comienzo\n",
            "Hola Hola Hola \n",
            "Final\n"
          ]
        }
      ]
    },
    {
      "cell_type": "markdown",
      "source": [
        "SI LA LISTA ESTA VACIA EL CICLO NO RE REALIZA NI UNA SOLA VEZ"
      ],
      "metadata": {
        "id": "7_-w6ac0Rppp"
      }
    },
    {
      "cell_type": "code",
      "source": [
        "print(\"Comienzo\")\n",
        "for i in []:\n",
        "    print(\"Hola \", end=\"\")\n",
        "print()\n",
        "print(\"Final\")"
      ],
      "metadata": {
        "colab": {
          "base_uri": "https://localhost:8080/"
        },
        "id": "RyDi0c24RhwS",
        "outputId": "dbb2ec7b-2741-492a-a8ae-4b7ad620d614"
      },
      "execution_count": null,
      "outputs": [
        {
          "output_type": "stream",
          "name": "stdout",
          "text": [
            "Comienzo\n",
            "\n",
            "Final\n"
          ]
        }
      ]
    },
    {
      "cell_type": "markdown",
      "source": [],
      "metadata": {
        "id": "FnsN8E-pRhji"
      }
    }
  ]
}