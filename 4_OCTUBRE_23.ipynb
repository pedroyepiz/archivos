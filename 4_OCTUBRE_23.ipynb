{
  "nbformat": 4,
  "nbformat_minor": 0,
  "metadata": {
    "colab": {
      "provenance": [],
      "authorship_tag": "ABX9TyPZ5F7X5W+6c+FMIkWw9oYp",
      "include_colab_link": true
    },
    "kernelspec": {
      "name": "python3",
      "display_name": "Python 3"
    },
    "language_info": {
      "name": "python"
    }
  },
  "cells": [
    {
      "cell_type": "markdown",
      "metadata": {
        "id": "view-in-github",
        "colab_type": "text"
      },
      "source": [
        "<a href=\"https://colab.research.google.com/github/pedroyepiz/archivos/blob/main/4_OCTUBRE_23.ipynb\" target=\"_parent\"><img src=\"https://colab.research.google.com/assets/colab-badge.svg\" alt=\"Open In Colab\"/></a>"
      ]
    },
    {
      "cell_type": "code",
      "execution_count": null,
      "metadata": {
        "id": "yNaaCFu2Nhi_"
      },
      "outputs": [],
      "source": [
        "import random"
      ]
    },
    {
      "cell_type": "code",
      "source": [
        "lista = []\n",
        "lista3 = [34,56,3,6,89]\n",
        "lista2=list(lista)\n",
        "lista3.append(123)\n",
        "print (lista3)\n",
        "\n",
        "for i in lista3:\n",
        "    print (i)\n",
        "\n",
        "if 6 in lista3:\n",
        "    print (\"SI ESTA\")"
      ],
      "metadata": {
        "colab": {
          "base_uri": "https://localhost:8080/"
        },
        "id": "P6Yjo9uaOAYx",
        "outputId": "ed1ee2e7-a58d-4032-927c-66b09c89afe7"
      },
      "execution_count": null,
      "outputs": [
        {
          "output_type": "stream",
          "name": "stdout",
          "text": [
            "[34, 56, 3, 6, 89, 123]\n",
            "34\n",
            "56\n",
            "3\n",
            "6\n",
            "89\n",
            "123\n",
            "SI ESTA\n"
          ]
        }
      ]
    },
    {
      "cell_type": "code",
      "source": [
        "lista = []\n",
        "\n",
        "for i in range(20):\n",
        "    while True:\n",
        "        num=random.randint(10,40)\n",
        "        if num not in lista:\n",
        "            break\n",
        "    lista.append(num)\n",
        "print(lista)\n",
        "lista2=sorted(lista)\n",
        "print (lista2)\n",
        "print(\"LISTA= \",lista)"
      ],
      "metadata": {
        "colab": {
          "base_uri": "https://localhost:8080/"
        },
        "id": "DhJZLQGwPt4w",
        "outputId": "46d9b72b-e092-48bd-811f-11c32676d138"
      },
      "execution_count": null,
      "outputs": [
        {
          "output_type": "stream",
          "name": "stdout",
          "text": [
            "[19, 13, 24, 10, 14, 16, 26, 36, 15, 18, 37, 32, 23, 30, 29, 38, 22, 17, 11, 33]\n",
            "[10, 11, 13, 14, 15, 16, 17, 18, 19, 22, 23, 24, 26, 29, 30, 32, 33, 36, 37, 38]\n",
            "LISTA=  [19, 13, 24, 10, 14, 16, 26, 36, 15, 18, 37, 32, 23, 30, 29, 38, 22, 17, 11, 33]\n"
          ]
        }
      ]
    },
    {
      "cell_type": "code",
      "source": [
        "lista=[19, 13, 24, 10, 14, 16, 26, 23, 30, 29, 38, 22, 17, 11, 33]\n",
        "n = len(lista)\n",
        "i = 0\n",
        "while i < n :\n",
        "    print (f\" { i } --> [{lista[i]}]\")\n",
        "    i+=1"
      ],
      "metadata": {
        "colab": {
          "base_uri": "https://localhost:8080/"
        },
        "id": "Ko1KT8ACRtW3",
        "outputId": "450129c6-73dc-40ad-c616-4145d0511b7f"
      },
      "execution_count": null,
      "outputs": [
        {
          "output_type": "stream",
          "name": "stdout",
          "text": [
            " 0 --> [19]\n",
            " 1 --> [13]\n",
            " 2 --> [24]\n",
            " 3 --> [10]\n",
            " 4 --> [14]\n",
            " 5 --> [16]\n",
            " 6 --> [26]\n",
            " 7 --> [23]\n",
            " 8 --> [30]\n",
            " 9 --> [29]\n",
            " 10 --> [38]\n",
            " 11 --> [22]\n",
            " 12 --> [17]\n",
            " 13 --> [11]\n",
            " 14 --> [33]\n"
          ]
        }
      ]
    },
    {
      "cell_type": "code",
      "source": [
        "lista=[19, 13, 24, 10, 14, 16, 26, 23, 30, 29, 38, 22, 17, 11, 33]\n",
        "\n",
        "for i,x in enumerate(lista):\n",
        "    print (f\" { i } --> {x}\")"
      ],
      "metadata": {
        "colab": {
          "base_uri": "https://localhost:8080/"
        },
        "id": "iAqOFMrtTUpX",
        "outputId": "6e9b2b4c-9bfb-4bcf-a99c-e4164bcba9c9"
      },
      "execution_count": null,
      "outputs": [
        {
          "output_type": "stream",
          "name": "stdout",
          "text": [
            " 0 --> 19\n",
            " 1 --> 13\n",
            " 2 --> 24\n",
            " 3 --> 10\n",
            " 4 --> 14\n",
            " 5 --> 16\n",
            " 6 --> 26\n",
            " 7 --> 23\n",
            " 8 --> 30\n",
            " 9 --> 29\n",
            " 10 --> 38\n",
            " 11 --> 22\n",
            " 12 --> 17\n",
            " 13 --> 11\n",
            " 14 --> 33\n"
          ]
        }
      ]
    },
    {
      "cell_type": "code",
      "source": [
        "lista=[\"KURO\",\"MAURICIO\",\"PALOMO\",\"NITA\",\"LALITA\",\"HUESOS\"]\n",
        "\n",
        "for i in range(len(lista)):\n",
        "    print (f\" { i } --> [{lista[i]}] --> {len(lista[i])} caracteres\")\n"
      ],
      "metadata": {
        "colab": {
          "base_uri": "https://localhost:8080/"
        },
        "id": "lwOM1DJ2TyA9",
        "outputId": "79be403b-ea83-4169-f47a-9d6b44b6c754"
      },
      "execution_count": null,
      "outputs": [
        {
          "output_type": "stream",
          "name": "stdout",
          "text": [
            " 0 --> [KURO] --> 4 caracteres\n",
            " 1 --> [MAURICIO] --> 8 caracteres\n",
            " 2 --> [PALOMO] --> 6 caracteres\n",
            " 3 --> [NITA] --> 4 caracteres\n",
            " 4 --> [LALITA] --> 6 caracteres\n",
            " 5 --> [HUESOS] --> 6 caracteres\n"
          ]
        }
      ]
    },
    {
      "cell_type": "code",
      "source": [
        "lista =[]\n",
        "for i in range(11):\n",
        "    lista.append(random.randint(10,20))\n",
        "print (\"CON REPETIDOS -->\",lista)\n",
        "lista2 = list(set(lista))\n",
        "random.shuffle(lista)\n",
        "print (\"CON REPETIDOS -->\",lista)\n",
        "print (\"sin REPETIDOS -->\",lista2)\n",
        "num = int (input(\"QUE NUMERO BUSCAS\"))\n",
        "\n",
        "if num in lista:\n",
        "    pos = lista.index(num)\n",
        "    print (f\"El {num} se encuentra en el indice {pos}\")\n",
        "else:\n",
        "    print (f\"NO SE ENCUENTRA el {num} en la lista\")"
      ],
      "metadata": {
        "colab": {
          "base_uri": "https://localhost:8080/"
        },
        "id": "_Zo-cdDDU8jc",
        "outputId": "514c7606-3d77-4a5d-a52c-dc3b0a059f6c"
      },
      "execution_count": null,
      "outputs": [
        {
          "output_type": "stream",
          "name": "stdout",
          "text": [
            "CON REPETIDOS --> [17, 14, 13, 15, 19, 17, 18, 16, 11, 13, 15]\n",
            "CON REPETIDOS --> [17, 16, 15, 18, 17, 13, 13, 19, 11, 15, 14]\n",
            "sin REPETIDOS --> [11, 13, 14, 15, 16, 17, 18, 19]\n",
            "QUE NUMERO BUSCAS11\n",
            "El 11 se encuentra en el indice 8\n"
          ]
        }
      ]
    }
  ]
}